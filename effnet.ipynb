{
 "cells": [
  {
   "cell_type": "code",
   "execution_count": 28,
   "metadata": {},
   "outputs": [],
   "source": [
    "import torch\n",
    "import torch.nn as nn \n",
    "import numpy as np"
   ]
  },
  {
   "cell_type": "code",
   "execution_count": 2,
   "metadata": {},
   "outputs": [
    {
     "data": {
      "text/plain": [
       "torch.Size([224, 224, 3])"
      ]
     },
     "execution_count": 2,
     "metadata": {},
     "output_type": "execute_result"
    }
   ],
   "source": [
    "test = torch.randn((224,224,3))\n",
    "test.size()"
   ]
  },
  {
   "cell_type": "code",
   "execution_count": 76,
   "metadata": {},
   "outputs": [],
   "source": [
    "class SEBlock(nn.Module):\n",
    "    def __init__(self, in_channels, reduction_ratio):\n",
    "        super().__init__()\n",
    "        self.channels = in_channels\n",
    "        self.r = reduction_ratio \n",
    "        assert self.r > 0\n",
    "        self.num_features = int(self.channels * self.r)\n",
    "        self.se = nn.Sequential(nn.Linear(self.channels, self.num_features), \n",
    "                                nn.ReLU(), \n",
    "                                nn.Linear(self.num_features, self.channels), \n",
    "                                nn.Sigmoid())\n",
    "    \n",
    "    def forward(self, x):\n",
    "        x_ = x.mean(dim=(3,2))\n",
    "        x_ = self.se(x_)\n",
    "        # channelwise multiplication\n",
    "        x_ = x_.unsqueeze(-1).unsqueeze(-1)\n",
    "        x = torch.mul(x, x_)\n",
    "        return x"
   ]
  },
  {
   "cell_type": "code",
   "execution_count": 77,
   "metadata": {},
   "outputs": [
    {
     "data": {
      "text/plain": [
       "torch.Size([1, 8, 1, 1])"
      ]
     },
     "execution_count": 77,
     "metadata": {},
     "output_type": "execute_result"
    }
   ],
   "source": [
    "a = torch.randn((1,8))\n",
    "b = torch.randn((1,8,16,16))\n",
    "a = a.unsqueeze(-1).unsqueeze(-1)\n",
    "a.size()"
   ]
  },
  {
   "cell_type": "code",
   "execution_count": 78,
   "metadata": {},
   "outputs": [
    {
     "data": {
      "text/plain": [
       "torch.Size([1, 8, 16, 16])"
      ]
     },
     "execution_count": 78,
     "metadata": {},
     "output_type": "execute_result"
    }
   ],
   "source": [
    "c = torch.mul(a,b)\n",
    "c.size()"
   ]
  },
  {
   "cell_type": "code",
   "execution_count": null,
   "metadata": {},
   "outputs": [],
   "source": []
  },
  {
   "cell_type": "code",
   "execution_count": 79,
   "metadata": {},
   "outputs": [],
   "source": [
    "test = torch.randn((1, 16, 224,224))\n",
    "in_channels = 16\n",
    "se = SEBlock(in_channels, 4)"
   ]
  },
  {
   "cell_type": "code",
   "execution_count": 80,
   "metadata": {},
   "outputs": [
    {
     "data": {
      "text/plain": [
       "torch.Size([1, 16, 224, 224])"
      ]
     },
     "execution_count": 80,
     "metadata": {},
     "output_type": "execute_result"
    }
   ],
   "source": [
    "out = se(test)\n",
    "out.size()"
   ]
  },
  {
   "cell_type": "code",
   "execution_count": 81,
   "metadata": {},
   "outputs": [
    {
     "name": "stdout",
     "output_type": "stream",
     "text": [
      "torch.Size([64, 16])\n",
      "torch.Size([64])\n",
      "torch.Size([16, 64])\n",
      "torch.Size([16])\n"
     ]
    }
   ],
   "source": [
    "for p in se.parameters():\n",
    "    print(p.size())"
   ]
  },
  {
   "cell_type": "code",
   "execution_count": null,
   "metadata": {},
   "outputs": [],
   "source": []
  },
  {
   "cell_type": "code",
   "execution_count": 82,
   "metadata": {},
   "outputs": [],
   "source": [
    "class MBConv(nn.Module):\n",
    "    def __init__(self, in_channels, out_channels, filter_size, expand_ratio, stride, se_ratio, padding=1):\n",
    "        super().__init__()\n",
    "        self.in_channels = in_channels\n",
    "        self.out_channels = out_channels\n",
    "        self.k = filter_size\n",
    "        self.t = expand_ratio\n",
    "        self.s = stride\n",
    "        self.se_ratio = se_ratio\n",
    "        \n",
    "        #MBConv1\n",
    "        middle_dim = self.in_channels * self.t \n",
    "        if self.t == 1:\n",
    "            self.conv = nn.Sequential(nn.Conv2d(middle_dim, middle_dim, 3, self.s, padding, groups=middle_dim, bias=False), \n",
    "                                      nn.BatchNorm2d(middle_dim), \n",
    "                                      nn.SiLU(inplace=True), \n",
    "                                      nn.Conv2d(middle_dim, self.out_channels, 1, bias=False), \n",
    "                                      nn.BatchNorm2d(self.out_channels))\n",
    "        # MBConv6\n",
    "        else: \n",
    "            self.conv = nn.Sequential(nn.Conv2d(self.in_channels, middle_dim, 1, bias=False), \n",
    "                                      nn.BatchNorm2d(middle_dim),\n",
    "                                      nn.SiLU(inplace=True),\n",
    "                                      nn.Conv2d(middle_dim, middle_dim, 3, self.s, padding, groups=middle_dim, bias=False), \n",
    "                                      nn.BatchNorm2d(middle_dim), \n",
    "                                      nn.SiLU(inplace=True), \n",
    "                                      nn.Conv2d(middle_dim, self.out_channels, 1, bias=False), \n",
    "                                      nn.BatchNorm2d(self.out_channels))\n",
    "        \n",
    "        self.se = SEBlock(self.out_channels, self.se_ratio)\n",
    "            \n",
    "        \n",
    "    def forward(self, x):\n",
    "        if self.s == 1 and self.in_channels == self.out_channels: \n",
    "            return x + self.se(self.conv(x))\n",
    "        else:\n",
    "            return self.se(self.conv(x))"
   ]
  },
  {
   "cell_type": "code",
   "execution_count": 83,
   "metadata": {},
   "outputs": [],
   "source": [
    "mbconv1 = MBConv(3, 32, 3, 1, 1, 0.25)\n",
    "mbconv6 = MBConv(3, 32, 3, 6, 1, 0.25)"
   ]
  },
  {
   "cell_type": "code",
   "execution_count": 84,
   "metadata": {},
   "outputs": [
    {
     "data": {
      "text/plain": [
       "torch.Size([1, 3, 224, 224])"
      ]
     },
     "execution_count": 84,
     "metadata": {},
     "output_type": "execute_result"
    }
   ],
   "source": [
    "test = torch.randn((224,224,3))\n",
    "test = test.unsqueeze(0)\n",
    "test = test.transpose(1,3)\n",
    "test.size()"
   ]
  },
  {
   "cell_type": "code",
   "execution_count": 85,
   "metadata": {},
   "outputs": [
    {
     "data": {
      "text/plain": [
       "torch.Size([1, 32, 224, 224])"
      ]
     },
     "execution_count": 85,
     "metadata": {},
     "output_type": "execute_result"
    }
   ],
   "source": [
    "out1 = mbconv1(test)\n",
    "out1.size()"
   ]
  },
  {
   "cell_type": "code",
   "execution_count": 86,
   "metadata": {},
   "outputs": [
    {
     "data": {
      "text/plain": [
       "torch.Size([1, 3, 224, 224])"
      ]
     },
     "execution_count": 86,
     "metadata": {},
     "output_type": "execute_result"
    }
   ],
   "source": [
    "test = torch.randn((224,224,3))\n",
    "test = test.unsqueeze(0)\n",
    "test = test.transpose(1,3)\n",
    "test.size()"
   ]
  },
  {
   "cell_type": "code",
   "execution_count": 87,
   "metadata": {},
   "outputs": [
    {
     "data": {
      "text/plain": [
       "torch.Size([1, 32, 224, 224])"
      ]
     },
     "execution_count": 87,
     "metadata": {},
     "output_type": "execute_result"
    }
   ],
   "source": [
    "out2 = mbconv6(test)\n",
    "out2.size()"
   ]
  },
  {
   "cell_type": "code",
   "execution_count": null,
   "metadata": {},
   "outputs": [],
   "source": []
  },
  {
   "cell_type": "code",
   "execution_count": 88,
   "metadata": {},
   "outputs": [],
   "source": [
    "class EfficientNet(nn.Module):\n",
    "    def __init__(self, config, name='efficientnet-b0'):\n",
    "        super().__init__()\n",
    "        self.config = config[name]\n",
    "        self.num_classes = self.config['num_classes']\n",
    "        self.dropout = self.config['dropout']\n",
    "        self.in_channels = self.config['in_channels']\n",
    "        self.out_channels = self.config['out_channels']\n",
    "        self.stages_config = self.config['stages']\n",
    "        \n",
    "        self.stage1 = nn.Sequential(nn.Conv2d(self.in_channels, 32, 3, stride=2, padding=1), \n",
    "                                    nn.BatchNorm2d(32), \n",
    "                                    nn.SiLU(inplace=True))\n",
    "        self.modules = [_create_stage(params) for params in self.stages_config]\n",
    "        self.stages = nn.Sequential(*self.modules)\n",
    "        self.final = nn.Sequential(nn.Conv2d(320, self.out_channels, 1, padding='same'), \n",
    "                                   nn.BatchNorm2d(self.out_channels), \n",
    "                                   nn.AdaptiveAvgPool2d(1), \n",
    "                                   nn.Flatten(),\n",
    "                                   nn.Dropout(self.dropout), \n",
    "                                   nn.Linear(self.out_channels, self.num_classes))\n",
    "        \n",
    "        \n",
    "    def forward(self, x):\n",
    "        x = self.stage1(x)\n",
    "        x = self.stages(x)\n",
    "        x = self.final(x)\n",
    "        return x\n",
    "    \n",
    "    def _create_stage(self, params):\n",
    "        expand_ratio, filter_size, num_repeats, in_channels, out_channels, stride, padding, se_ratio = params\n",
    "        modules = []\n",
    "        for i in range(num_repeats):\n",
    "            if i == (num_repeats-1):\n",
    "                modules.append(MBConv(in_channels, out_channels, filter_size, expand_ratio, stride, se_ratio, 1))\n",
    "            else:\n",
    "                modules.append(MBConv(in_channels, in_channels, filter_size, expand_ratio, 1, se_ratio, padding))\n",
    "\n",
    "        return modules"
   ]
  },
  {
   "cell_type": "code",
   "execution_count": 89,
   "metadata": {},
   "outputs": [],
   "source": [
    "configs = {\n",
    "    'efficientnet-b0': {\n",
    "        'num_classes': 1000,\n",
    "        'in_channels': 3,\n",
    "        'out_channels': 1280,\n",
    "        'dropout': 0.2,\n",
    "        'stages': [\n",
    "            # expand_ratio, filter_size, num_repeats, in_channels, out_channels, stride, padding, se_ratio\n",
    "            (1, 3, 1, 32, 16, 1, 'same', 0.25),\n",
    "            (6, 3, 2, 16, 24, 2, 1, 0.25),\n",
    "            (6, 5, 2, 24, 40, 2, 1, 0.25),\n",
    "            (6, 3, 3, 40, 80, 2, 1, 0.25),\n",
    "            (6, 5, 3, 80, 112, 1, 'same', 0.25),\n",
    "            (6, 5, 4, 112, 192, 2, 1, 0.25),\n",
    "            (6, 3, 1, 192, 320, 1, 'same', 0.25)\n",
    "        ]\n",
    "                \n",
    "    }\n",
    "}"
   ]
  },
  {
   "cell_type": "code",
   "execution_count": 90,
   "metadata": {},
   "outputs": [
    {
     "data": {
      "text/plain": [
       "EfficientNet(\n",
       "  (stage1): Sequential(\n",
       "    (0): Conv2d(3, 32, kernel_size=(3, 3), stride=(2, 2), padding=(1, 1))\n",
       "    (1): BatchNorm2d(32, eps=1e-05, momentum=0.1, affine=True, track_running_stats=True)\n",
       "    (2): SiLU(inplace=True)\n",
       "  )\n",
       "  (stages): Sequential(\n",
       "    (0): Sequential(\n",
       "      (0): MBConv(\n",
       "        (conv): Sequential(\n",
       "          (0): Conv2d(32, 32, kernel_size=(3, 3), stride=(1, 1), padding=(1, 1), groups=32, bias=False)\n",
       "          (1): BatchNorm2d(32, eps=1e-05, momentum=0.1, affine=True, track_running_stats=True)\n",
       "          (2): SiLU(inplace=True)\n",
       "          (3): Conv2d(32, 16, kernel_size=(1, 1), stride=(1, 1), bias=False)\n",
       "          (4): BatchNorm2d(16, eps=1e-05, momentum=0.1, affine=True, track_running_stats=True)\n",
       "        )\n",
       "        (se): SEBlock(\n",
       "          (se): Sequential(\n",
       "            (0): Linear(in_features=16, out_features=4, bias=True)\n",
       "            (1): ReLU()\n",
       "            (2): Linear(in_features=4, out_features=16, bias=True)\n",
       "            (3): Sigmoid()\n",
       "          )\n",
       "        )\n",
       "      )\n",
       "    )\n",
       "    (1): Sequential(\n",
       "      (0): MBConv(\n",
       "        (conv): Sequential(\n",
       "          (0): Conv2d(16, 96, kernel_size=(1, 1), stride=(1, 1), bias=False)\n",
       "          (1): BatchNorm2d(96, eps=1e-05, momentum=0.1, affine=True, track_running_stats=True)\n",
       "          (2): SiLU(inplace=True)\n",
       "          (3): Conv2d(96, 96, kernel_size=(3, 3), stride=(1, 1), padding=(1, 1), groups=96, bias=False)\n",
       "          (4): BatchNorm2d(96, eps=1e-05, momentum=0.1, affine=True, track_running_stats=True)\n",
       "          (5): SiLU(inplace=True)\n",
       "          (6): Conv2d(96, 16, kernel_size=(1, 1), stride=(1, 1), bias=False)\n",
       "          (7): BatchNorm2d(16, eps=1e-05, momentum=0.1, affine=True, track_running_stats=True)\n",
       "        )\n",
       "        (se): SEBlock(\n",
       "          (se): Sequential(\n",
       "            (0): Linear(in_features=16, out_features=4, bias=True)\n",
       "            (1): ReLU()\n",
       "            (2): Linear(in_features=4, out_features=16, bias=True)\n",
       "            (3): Sigmoid()\n",
       "          )\n",
       "        )\n",
       "      )\n",
       "      (1): MBConv(\n",
       "        (conv): Sequential(\n",
       "          (0): Conv2d(16, 96, kernel_size=(1, 1), stride=(1, 1), bias=False)\n",
       "          (1): BatchNorm2d(96, eps=1e-05, momentum=0.1, affine=True, track_running_stats=True)\n",
       "          (2): SiLU(inplace=True)\n",
       "          (3): Conv2d(96, 96, kernel_size=(3, 3), stride=(2, 2), padding=(1, 1), groups=96, bias=False)\n",
       "          (4): BatchNorm2d(96, eps=1e-05, momentum=0.1, affine=True, track_running_stats=True)\n",
       "          (5): SiLU(inplace=True)\n",
       "          (6): Conv2d(96, 24, kernel_size=(1, 1), stride=(1, 1), bias=False)\n",
       "          (7): BatchNorm2d(24, eps=1e-05, momentum=0.1, affine=True, track_running_stats=True)\n",
       "        )\n",
       "        (se): SEBlock(\n",
       "          (se): Sequential(\n",
       "            (0): Linear(in_features=24, out_features=6, bias=True)\n",
       "            (1): ReLU()\n",
       "            (2): Linear(in_features=6, out_features=24, bias=True)\n",
       "            (3): Sigmoid()\n",
       "          )\n",
       "        )\n",
       "      )\n",
       "    )\n",
       "    (2): Sequential(\n",
       "      (0): MBConv(\n",
       "        (conv): Sequential(\n",
       "          (0): Conv2d(24, 144, kernel_size=(1, 1), stride=(1, 1), bias=False)\n",
       "          (1): BatchNorm2d(144, eps=1e-05, momentum=0.1, affine=True, track_running_stats=True)\n",
       "          (2): SiLU(inplace=True)\n",
       "          (3): Conv2d(144, 144, kernel_size=(3, 3), stride=(1, 1), padding=(1, 1), groups=144, bias=False)\n",
       "          (4): BatchNorm2d(144, eps=1e-05, momentum=0.1, affine=True, track_running_stats=True)\n",
       "          (5): SiLU(inplace=True)\n",
       "          (6): Conv2d(144, 24, kernel_size=(1, 1), stride=(1, 1), bias=False)\n",
       "          (7): BatchNorm2d(24, eps=1e-05, momentum=0.1, affine=True, track_running_stats=True)\n",
       "        )\n",
       "        (se): SEBlock(\n",
       "          (se): Sequential(\n",
       "            (0): Linear(in_features=24, out_features=6, bias=True)\n",
       "            (1): ReLU()\n",
       "            (2): Linear(in_features=6, out_features=24, bias=True)\n",
       "            (3): Sigmoid()\n",
       "          )\n",
       "        )\n",
       "      )\n",
       "      (1): MBConv(\n",
       "        (conv): Sequential(\n",
       "          (0): Conv2d(24, 144, kernel_size=(1, 1), stride=(1, 1), bias=False)\n",
       "          (1): BatchNorm2d(144, eps=1e-05, momentum=0.1, affine=True, track_running_stats=True)\n",
       "          (2): SiLU(inplace=True)\n",
       "          (3): Conv2d(144, 144, kernel_size=(3, 3), stride=(2, 2), padding=(1, 1), groups=144, bias=False)\n",
       "          (4): BatchNorm2d(144, eps=1e-05, momentum=0.1, affine=True, track_running_stats=True)\n",
       "          (5): SiLU(inplace=True)\n",
       "          (6): Conv2d(144, 40, kernel_size=(1, 1), stride=(1, 1), bias=False)\n",
       "          (7): BatchNorm2d(40, eps=1e-05, momentum=0.1, affine=True, track_running_stats=True)\n",
       "        )\n",
       "        (se): SEBlock(\n",
       "          (se): Sequential(\n",
       "            (0): Linear(in_features=40, out_features=10, bias=True)\n",
       "            (1): ReLU()\n",
       "            (2): Linear(in_features=10, out_features=40, bias=True)\n",
       "            (3): Sigmoid()\n",
       "          )\n",
       "        )\n",
       "      )\n",
       "    )\n",
       "    (3): Sequential(\n",
       "      (0): MBConv(\n",
       "        (conv): Sequential(\n",
       "          (0): Conv2d(40, 240, kernel_size=(1, 1), stride=(1, 1), bias=False)\n",
       "          (1): BatchNorm2d(240, eps=1e-05, momentum=0.1, affine=True, track_running_stats=True)\n",
       "          (2): SiLU(inplace=True)\n",
       "          (3): Conv2d(240, 240, kernel_size=(3, 3), stride=(1, 1), padding=(1, 1), groups=240, bias=False)\n",
       "          (4): BatchNorm2d(240, eps=1e-05, momentum=0.1, affine=True, track_running_stats=True)\n",
       "          (5): SiLU(inplace=True)\n",
       "          (6): Conv2d(240, 40, kernel_size=(1, 1), stride=(1, 1), bias=False)\n",
       "          (7): BatchNorm2d(40, eps=1e-05, momentum=0.1, affine=True, track_running_stats=True)\n",
       "        )\n",
       "        (se): SEBlock(\n",
       "          (se): Sequential(\n",
       "            (0): Linear(in_features=40, out_features=10, bias=True)\n",
       "            (1): ReLU()\n",
       "            (2): Linear(in_features=10, out_features=40, bias=True)\n",
       "            (3): Sigmoid()\n",
       "          )\n",
       "        )\n",
       "      )\n",
       "      (1): MBConv(\n",
       "        (conv): Sequential(\n",
       "          (0): Conv2d(40, 240, kernel_size=(1, 1), stride=(1, 1), bias=False)\n",
       "          (1): BatchNorm2d(240, eps=1e-05, momentum=0.1, affine=True, track_running_stats=True)\n",
       "          (2): SiLU(inplace=True)\n",
       "          (3): Conv2d(240, 240, kernel_size=(3, 3), stride=(1, 1), padding=(1, 1), groups=240, bias=False)\n",
       "          (4): BatchNorm2d(240, eps=1e-05, momentum=0.1, affine=True, track_running_stats=True)\n",
       "          (5): SiLU(inplace=True)\n",
       "          (6): Conv2d(240, 40, kernel_size=(1, 1), stride=(1, 1), bias=False)\n",
       "          (7): BatchNorm2d(40, eps=1e-05, momentum=0.1, affine=True, track_running_stats=True)\n",
       "        )\n",
       "        (se): SEBlock(\n",
       "          (se): Sequential(\n",
       "            (0): Linear(in_features=40, out_features=10, bias=True)\n",
       "            (1): ReLU()\n",
       "            (2): Linear(in_features=10, out_features=40, bias=True)\n",
       "            (3): Sigmoid()\n",
       "          )\n",
       "        )\n",
       "      )\n",
       "      (2): MBConv(\n",
       "        (conv): Sequential(\n",
       "          (0): Conv2d(40, 240, kernel_size=(1, 1), stride=(1, 1), bias=False)\n",
       "          (1): BatchNorm2d(240, eps=1e-05, momentum=0.1, affine=True, track_running_stats=True)\n",
       "          (2): SiLU(inplace=True)\n",
       "          (3): Conv2d(240, 240, kernel_size=(3, 3), stride=(2, 2), padding=(1, 1), groups=240, bias=False)\n",
       "          (4): BatchNorm2d(240, eps=1e-05, momentum=0.1, affine=True, track_running_stats=True)\n",
       "          (5): SiLU(inplace=True)\n",
       "          (6): Conv2d(240, 80, kernel_size=(1, 1), stride=(1, 1), bias=False)\n",
       "          (7): BatchNorm2d(80, eps=1e-05, momentum=0.1, affine=True, track_running_stats=True)\n",
       "        )\n",
       "        (se): SEBlock(\n",
       "          (se): Sequential(\n",
       "            (0): Linear(in_features=80, out_features=20, bias=True)\n",
       "            (1): ReLU()\n",
       "            (2): Linear(in_features=20, out_features=80, bias=True)\n",
       "            (3): Sigmoid()\n",
       "          )\n",
       "        )\n",
       "      )\n",
       "    )\n",
       "    (4): Sequential(\n",
       "      (0): MBConv(\n",
       "        (conv): Sequential(\n",
       "          (0): Conv2d(80, 480, kernel_size=(1, 1), stride=(1, 1), bias=False)\n",
       "          (1): BatchNorm2d(480, eps=1e-05, momentum=0.1, affine=True, track_running_stats=True)\n",
       "          (2): SiLU(inplace=True)\n",
       "          (3): Conv2d(480, 480, kernel_size=(3, 3), stride=(1, 1), padding=same, groups=480, bias=False)\n",
       "          (4): BatchNorm2d(480, eps=1e-05, momentum=0.1, affine=True, track_running_stats=True)\n",
       "          (5): SiLU(inplace=True)\n",
       "          (6): Conv2d(480, 80, kernel_size=(1, 1), stride=(1, 1), bias=False)\n",
       "          (7): BatchNorm2d(80, eps=1e-05, momentum=0.1, affine=True, track_running_stats=True)\n",
       "        )\n",
       "        (se): SEBlock(\n",
       "          (se): Sequential(\n",
       "            (0): Linear(in_features=80, out_features=20, bias=True)\n",
       "            (1): ReLU()\n",
       "            (2): Linear(in_features=20, out_features=80, bias=True)\n",
       "            (3): Sigmoid()\n",
       "          )\n",
       "        )\n",
       "      )\n",
       "      (1): MBConv(\n",
       "        (conv): Sequential(\n",
       "          (0): Conv2d(80, 480, kernel_size=(1, 1), stride=(1, 1), bias=False)\n",
       "          (1): BatchNorm2d(480, eps=1e-05, momentum=0.1, affine=True, track_running_stats=True)\n",
       "          (2): SiLU(inplace=True)\n",
       "          (3): Conv2d(480, 480, kernel_size=(3, 3), stride=(1, 1), padding=same, groups=480, bias=False)\n",
       "          (4): BatchNorm2d(480, eps=1e-05, momentum=0.1, affine=True, track_running_stats=True)\n",
       "          (5): SiLU(inplace=True)\n",
       "          (6): Conv2d(480, 80, kernel_size=(1, 1), stride=(1, 1), bias=False)\n",
       "          (7): BatchNorm2d(80, eps=1e-05, momentum=0.1, affine=True, track_running_stats=True)\n",
       "        )\n",
       "        (se): SEBlock(\n",
       "          (se): Sequential(\n",
       "            (0): Linear(in_features=80, out_features=20, bias=True)\n",
       "            (1): ReLU()\n",
       "            (2): Linear(in_features=20, out_features=80, bias=True)\n",
       "            (3): Sigmoid()\n",
       "          )\n",
       "        )\n",
       "      )\n",
       "      (2): MBConv(\n",
       "        (conv): Sequential(\n",
       "          (0): Conv2d(80, 480, kernel_size=(1, 1), stride=(1, 1), bias=False)\n",
       "          (1): BatchNorm2d(480, eps=1e-05, momentum=0.1, affine=True, track_running_stats=True)\n",
       "          (2): SiLU(inplace=True)\n",
       "          (3): Conv2d(480, 480, kernel_size=(3, 3), stride=(1, 1), padding=(1, 1), groups=480, bias=False)\n",
       "          (4): BatchNorm2d(480, eps=1e-05, momentum=0.1, affine=True, track_running_stats=True)\n",
       "          (5): SiLU(inplace=True)\n",
       "          (6): Conv2d(480, 112, kernel_size=(1, 1), stride=(1, 1), bias=False)\n",
       "          (7): BatchNorm2d(112, eps=1e-05, momentum=0.1, affine=True, track_running_stats=True)\n",
       "        )\n",
       "        (se): SEBlock(\n",
       "          (se): Sequential(\n",
       "            (0): Linear(in_features=112, out_features=28, bias=True)\n",
       "            (1): ReLU()\n",
       "            (2): Linear(in_features=28, out_features=112, bias=True)\n",
       "            (3): Sigmoid()\n",
       "          )\n",
       "        )\n",
       "      )\n",
       "    )\n",
       "    (5): Sequential(\n",
       "      (0): MBConv(\n",
       "        (conv): Sequential(\n",
       "          (0): Conv2d(112, 672, kernel_size=(1, 1), stride=(1, 1), bias=False)\n",
       "          (1): BatchNorm2d(672, eps=1e-05, momentum=0.1, affine=True, track_running_stats=True)\n",
       "          (2): SiLU(inplace=True)\n",
       "          (3): Conv2d(672, 672, kernel_size=(3, 3), stride=(1, 1), padding=(1, 1), groups=672, bias=False)\n",
       "          (4): BatchNorm2d(672, eps=1e-05, momentum=0.1, affine=True, track_running_stats=True)\n",
       "          (5): SiLU(inplace=True)\n",
       "          (6): Conv2d(672, 112, kernel_size=(1, 1), stride=(1, 1), bias=False)\n",
       "          (7): BatchNorm2d(112, eps=1e-05, momentum=0.1, affine=True, track_running_stats=True)\n",
       "        )\n",
       "        (se): SEBlock(\n",
       "          (se): Sequential(\n",
       "            (0): Linear(in_features=112, out_features=28, bias=True)\n",
       "            (1): ReLU()\n",
       "            (2): Linear(in_features=28, out_features=112, bias=True)\n",
       "            (3): Sigmoid()\n",
       "          )\n",
       "        )\n",
       "      )\n",
       "      (1): MBConv(\n",
       "        (conv): Sequential(\n",
       "          (0): Conv2d(112, 672, kernel_size=(1, 1), stride=(1, 1), bias=False)\n",
       "          (1): BatchNorm2d(672, eps=1e-05, momentum=0.1, affine=True, track_running_stats=True)\n",
       "          (2): SiLU(inplace=True)\n",
       "          (3): Conv2d(672, 672, kernel_size=(3, 3), stride=(1, 1), padding=(1, 1), groups=672, bias=False)\n",
       "          (4): BatchNorm2d(672, eps=1e-05, momentum=0.1, affine=True, track_running_stats=True)\n",
       "          (5): SiLU(inplace=True)\n",
       "          (6): Conv2d(672, 112, kernel_size=(1, 1), stride=(1, 1), bias=False)\n",
       "          (7): BatchNorm2d(112, eps=1e-05, momentum=0.1, affine=True, track_running_stats=True)\n",
       "        )\n",
       "        (se): SEBlock(\n",
       "          (se): Sequential(\n",
       "            (0): Linear(in_features=112, out_features=28, bias=True)\n",
       "            (1): ReLU()\n",
       "            (2): Linear(in_features=28, out_features=112, bias=True)\n",
       "            (3): Sigmoid()\n",
       "          )\n",
       "        )\n",
       "      )\n",
       "      (2): MBConv(\n",
       "        (conv): Sequential(\n",
       "          (0): Conv2d(112, 672, kernel_size=(1, 1), stride=(1, 1), bias=False)\n",
       "          (1): BatchNorm2d(672, eps=1e-05, momentum=0.1, affine=True, track_running_stats=True)\n",
       "          (2): SiLU(inplace=True)\n",
       "          (3): Conv2d(672, 672, kernel_size=(3, 3), stride=(1, 1), padding=(1, 1), groups=672, bias=False)\n",
       "          (4): BatchNorm2d(672, eps=1e-05, momentum=0.1, affine=True, track_running_stats=True)\n",
       "          (5): SiLU(inplace=True)\n",
       "          (6): Conv2d(672, 112, kernel_size=(1, 1), stride=(1, 1), bias=False)\n",
       "          (7): BatchNorm2d(112, eps=1e-05, momentum=0.1, affine=True, track_running_stats=True)\n",
       "        )\n",
       "        (se): SEBlock(\n",
       "          (se): Sequential(\n",
       "            (0): Linear(in_features=112, out_features=28, bias=True)\n",
       "            (1): ReLU()\n",
       "            (2): Linear(in_features=28, out_features=112, bias=True)\n",
       "            (3): Sigmoid()\n",
       "          )\n",
       "        )\n",
       "      )\n",
       "      (3): MBConv(\n",
       "        (conv): Sequential(\n",
       "          (0): Conv2d(112, 672, kernel_size=(1, 1), stride=(1, 1), bias=False)\n",
       "          (1): BatchNorm2d(672, eps=1e-05, momentum=0.1, affine=True, track_running_stats=True)\n",
       "          (2): SiLU(inplace=True)\n",
       "          (3): Conv2d(672, 672, kernel_size=(3, 3), stride=(2, 2), padding=(1, 1), groups=672, bias=False)\n",
       "          (4): BatchNorm2d(672, eps=1e-05, momentum=0.1, affine=True, track_running_stats=True)\n",
       "          (5): SiLU(inplace=True)\n",
       "          (6): Conv2d(672, 192, kernel_size=(1, 1), stride=(1, 1), bias=False)\n",
       "          (7): BatchNorm2d(192, eps=1e-05, momentum=0.1, affine=True, track_running_stats=True)\n",
       "        )\n",
       "        (se): SEBlock(\n",
       "          (se): Sequential(\n",
       "            (0): Linear(in_features=192, out_features=48, bias=True)\n",
       "            (1): ReLU()\n",
       "            (2): Linear(in_features=48, out_features=192, bias=True)\n",
       "            (3): Sigmoid()\n",
       "          )\n",
       "        )\n",
       "      )\n",
       "    )\n",
       "    (6): Sequential(\n",
       "      (0): MBConv(\n",
       "        (conv): Sequential(\n",
       "          (0): Conv2d(192, 1152, kernel_size=(1, 1), stride=(1, 1), bias=False)\n",
       "          (1): BatchNorm2d(1152, eps=1e-05, momentum=0.1, affine=True, track_running_stats=True)\n",
       "          (2): SiLU(inplace=True)\n",
       "          (3): Conv2d(1152, 1152, kernel_size=(3, 3), stride=(1, 1), padding=(1, 1), groups=1152, bias=False)\n",
       "          (4): BatchNorm2d(1152, eps=1e-05, momentum=0.1, affine=True, track_running_stats=True)\n",
       "          (5): SiLU(inplace=True)\n",
       "          (6): Conv2d(1152, 320, kernel_size=(1, 1), stride=(1, 1), bias=False)\n",
       "          (7): BatchNorm2d(320, eps=1e-05, momentum=0.1, affine=True, track_running_stats=True)\n",
       "        )\n",
       "        (se): SEBlock(\n",
       "          (se): Sequential(\n",
       "            (0): Linear(in_features=320, out_features=80, bias=True)\n",
       "            (1): ReLU()\n",
       "            (2): Linear(in_features=80, out_features=320, bias=True)\n",
       "            (3): Sigmoid()\n",
       "          )\n",
       "        )\n",
       "      )\n",
       "    )\n",
       "  )\n",
       "  (final): Sequential(\n",
       "    (0): Conv2d(320, 1280, kernel_size=(1, 1), stride=(1, 1), padding=same)\n",
       "    (1): BatchNorm2d(1280, eps=1e-05, momentum=0.1, affine=True, track_running_stats=True)\n",
       "    (2): AdaptiveAvgPool2d(output_size=1)\n",
       "    (3): Flatten(start_dim=1, end_dim=-1)\n",
       "    (4): Dropout(p=0.2, inplace=False)\n",
       "    (5): Linear(in_features=1280, out_features=1000, bias=True)\n",
       "  )\n",
       ")"
      ]
     },
     "execution_count": 90,
     "metadata": {},
     "output_type": "execute_result"
    }
   ],
   "source": [
    "net = EfficientNet(configs)\n",
    "net"
   ]
  },
  {
   "cell_type": "code",
   "execution_count": 91,
   "metadata": {},
   "outputs": [
    {
     "data": {
      "text/plain": [
       "torch.Size([1, 3, 333, 333])"
      ]
     },
     "execution_count": 91,
     "metadata": {},
     "output_type": "execute_result"
    }
   ],
   "source": [
    "test = torch.randn(1, 3, 333, 333)\n",
    "test.size()"
   ]
  },
  {
   "cell_type": "code",
   "execution_count": 92,
   "metadata": {},
   "outputs": [
    {
     "data": {
      "text/plain": [
       "torch.Size([1, 1000])"
      ]
     },
     "execution_count": 92,
     "metadata": {},
     "output_type": "execute_result"
    }
   ],
   "source": [
    "out = net(test)\n",
    "out.size()"
   ]
  },
  {
   "cell_type": "code",
   "execution_count": null,
   "metadata": {},
   "outputs": [],
   "source": []
  },
  {
   "cell_type": "code",
   "execution_count": 29,
   "metadata": {},
   "outputs": [
    {
     "name": "stdout",
     "output_type": "stream",
     "text": [
      "1 1\n",
      "0 1 0 1\n"
     ]
    }
   ],
   "source": [
    "in_height, in_width = 224,224\n",
    "filter_height, filter_width = 3,3\n",
    "strides=(None,2,2)\n",
    "out_height = np.ceil(float(in_height) / float(strides[1]))\n",
    "out_width  = np.ceil(float(in_width) / float(strides[2]))\n",
    "\n",
    "#The total padding applied along the height and width is computed as:\n",
    "\n",
    "if (in_height % strides[1] == 0):\n",
    "    pad_along_height = max(filter_height - strides[1], 0)\n",
    "else:\n",
    "    pad_along_height = max(filter_height - (in_height % strides[1]), 0)\n",
    "if (in_width % strides[2] == 0):\n",
    "    pad_along_width = max(filter_width - strides[2], 0)\n",
    "else:\n",
    "    pad_along_width = max(filter_width - (in_width % strides[2]), 0)\n",
    "\n",
    "print(pad_along_height, pad_along_width)\n",
    "  \n",
    "#Finally, the padding on the top, bottom, left and right are:\n",
    "\n",
    "pad_top = pad_along_height // 2\n",
    "pad_bottom = pad_along_height - pad_top\n",
    "pad_left = pad_along_width // 2\n",
    "pad_right = pad_along_width - pad_left\n",
    "\n",
    "print(pad_left, pad_right, pad_top, pad_bottom)"
   ]
  },
  {
   "cell_type": "code",
   "execution_count": 23,
   "metadata": {},
   "outputs": [
    {
     "data": {
      "text/plain": [
       "torch.Size([1, 3, 224, 224])"
      ]
     },
     "execution_count": 23,
     "metadata": {},
     "output_type": "execute_result"
    }
   ],
   "source": [
    "test = torch.randn(1,3,224,224)\n",
    "test.size()"
   ]
  },
  {
   "cell_type": "code",
   "execution_count": 26,
   "metadata": {},
   "outputs": [
    {
     "data": {
      "text/plain": [
       "torch.Size([1, 16, 112, 112])"
      ]
     },
     "execution_count": 26,
     "metadata": {},
     "output_type": "execute_result"
    }
   ],
   "source": [
    "same = nn.Conv2d(3, 16, 3, 2, 1, bias=False)\n",
    "out = same(test)\n",
    "out.size()"
   ]
  },
  {
   "cell_type": "code",
   "execution_count": 30,
   "metadata": {},
   "outputs": [
    {
     "data": {
      "text/plain": [
       "1"
      ]
     },
     "execution_count": 30,
     "metadata": {},
     "output_type": "execute_result"
    }
   ],
   "source": [
    "3//2"
   ]
  },
  {
   "cell_type": "code",
   "execution_count": null,
   "metadata": {},
   "outputs": [],
   "source": []
  }
 ],
 "metadata": {
  "kernelspec": {
   "display_name": "Python 3",
   "language": "python",
   "name": "python3"
  },
  "language_info": {
   "codemirror_mode": {
    "name": "ipython",
    "version": 3
   },
   "file_extension": ".py",
   "mimetype": "text/x-python",
   "name": "python",
   "nbconvert_exporter": "python",
   "pygments_lexer": "ipython3",
   "version": "3.7.4"
  }
 },
 "nbformat": 4,
 "nbformat_minor": 4
}
